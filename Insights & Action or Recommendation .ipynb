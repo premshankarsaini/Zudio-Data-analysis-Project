{
 "cells": [
  {
   "cell_type": "markdown",
   "id": "7b4b62bb",
   "metadata": {},
   "source": [
    "# 📈 Insights and Findings:-\n",
    "**State**: Rajasthan has the highest number of orders, with 1,013 total orders.\n",
    "\n",
    "**Clothing Type:** Dresses generated the highest sales profit of ₹2,372,312.4.\n",
    "\n",
    "**Month:** October recorded the most orders, totaling 743.\n",
    "\n",
    "**Store Type:** Rented stores slightly outperformed owned stores in product sales, accounting for 50.3%.\n",
    "\n",
    "**Clothing Category:** Kids’ clothes are the most sold category, with 12,013 items sold.\n",
    "\n",
    "**Profit Margin:** Sweaters have the highest profit margin, approximately ₹3,307.\n",
    "\n",
    "**Top 3 Customers:**\n",
    "\n",
    "* Jonathan Brown: ₹20,990.4\n",
    "* Christopher Smith: ₹20,565.2\n",
    "* Michael Williams: ₹19,524.0\n",
    "\n",
    "**City:** Jalna sold the highest quantity of products, with 975 items.\n",
    "\n",
    "**Operating Hours:** The time slot 10 AM - 7 PM recorded the most sales, with 9,206.\n",
    "\n",
    "**State Profit per Sq. Ft.:** West Bengal leads with a profit of ₹3.017 per square foot.\n",
    "\n",
    "**Top 5 Products:**\n",
    "\n",
    "* **Top Product:** Product ID 725 has the highest sales revenue of ₹4834.\n",
    "* **Other High Performers:** IDs 787, 666, 809, and 686 follow, with revenues ranging from ₹4816 to ₹3464.\n",
    "\n",
    "**Current Year Sales Trend:**\n",
    "\n",
    "* **Peak Sales Month:** October had the highest sales with 32 orders.\n",
    "* **Low Sales Month:** September had the least sales with 19 orders.\n",
    "* **Consistent Sales:** Other months like May (28 orders) and January (25 orders) showed moderate performance.\n",
    "\n",
    "**Chothing Category % Contribution:**\n",
    "\n",
    "* **Top Category:** Kids contributed the most with 33.65% of total sales.\n",
    "* **Women Category:** Slightly behind, contributing 33.50%.\n",
    "* **Men Category:** Contributed 32.85%, showing near-equal distribution among categories.\n"
   ]
  },
  {
   "cell_type": "markdown",
   "id": "c664340b",
   "metadata": {},
   "source": [
    "# 🚀 Key Actions and Recommendations:\n",
    "\n",
    "**Expand in Rajasthan:** Open more stores or increase marketing in Rajasthan, as it has the highest orders (1,013).\n",
    "\n",
    "**Focus on Jalna:** Capitalize on Jalna’s high sales volume (975 items).\n",
    "\n",
    "**Promote Top Products:** Highlight Product ID 725 and other top sellers (IDs 787, 666, 809, 686) through offers and ads.\n",
    "\n",
    "**Kids’ Category Push:** Boost sales for Kids’ clothing (33.65% contribution) with promotions and discounts.\n",
    "\n",
    "**Reward Loyal Customers:** Retain top customers like Jonathan Brown with loyalty programs and personalized offers.\n",
    "\n",
    "**Rented Stores Expansion:** Expand rented stores, as they slightly outperform owned ones (50.3% sales).\n",
    "\n",
    "**Leverage October Sales:** Plan ahead for October with stock and promotions, as it’s the highest sales month.\n",
    "\n",
    "**Improve Slow Months:** Run campaigns during September, the lowest sales month (19 orders).\n",
    "\n",
    "**Maximize Sweater Profit:** Promote sweaters (₹3,307 profit margin) during winter.\n",
    "\n",
    "**Learn from West Bengal:** Apply West Bengal’s efficient sales practices (₹3.017 per sq. ft.) to other states."
   ]
  }
 ],
 "metadata": {
  "kernelspec": {
   "display_name": "Python 3 (ipykernel)",
   "language": "python",
   "name": "python3"
  },
  "language_info": {
   "codemirror_mode": {
    "name": "ipython",
    "version": 3
   },
   "file_extension": ".py",
   "mimetype": "text/x-python",
   "name": "python",
   "nbconvert_exporter": "python",
   "pygments_lexer": "ipython3",
   "version": "3.11.5"
  }
 },
 "nbformat": 4,
 "nbformat_minor": 5
}
